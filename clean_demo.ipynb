{
 "cells": [
  {
   "cell_type": "markdown",
   "metadata": {},
   "source": [
    "# Cover Letter Generator\n",
    "written by: Amir Semsarzadeh\n",
    "\n",
    "overview: This simple program uses python's docx library to replace a template and to create an intuitive and decisive coverletter building tool. \n",
    "\n",
    "There are document variables things such as the header or the closing\n",
    "There are user defined variables from inputs\n",
    "There are randomized variables that are selected from list and predefined dictionary based text\n",
    "There is also static text"
   ]
  },
  {
   "cell_type": "code",
   "execution_count": 2,
   "metadata": {},
   "outputs": [],
   "source": [
    "import random\n",
    "from datetime import date\n",
    "import re\n",
    "from docx import Document\n",
    "from docx.shared import Pt\n",
    "from docx.text import font\n",
    "from dateutil.relativedelta import relativedelta\n",
    "\n",
    "import pandas as pd\n",
    "\n",
    "import pymongo\n",
    "from pymongo import MongoClient\n",
    "import json\n",
    "import dns"
   ]
  },
  {
   "cell_type": "markdown",
   "metadata": {},
   "source": [
    "## Establishing todays date\n",
    "\n",
    "This allows you to postdate and predate anything you would like."
   ]
  },
  {
   "cell_type": "code",
   "execution_count": 3,
   "metadata": {},
   "outputs": [],
   "source": [
    "#This code below allows you to pick a day 2 weeks ahead of time that means that if you want to post date something\n",
    "#this will do it for you and you can assign it to a variable.\n",
    "today = date.today()\n",
    "#period = date.today() + relativedelta(weeks=+2)\n",
    "#d4=period.strftime(\"%B %d, %Y\")\n",
    "\n",
    "# \"mm_dd_yyyy\" is used for the filenaming convention  \n",
    "d3 = today.strftime(\"%m_%d_%y_\")\n",
    "# \"alph Month day comma year\" is used in the greeting\n",
    "d2 = today.strftime(\"%B %d, %Y\")"
   ]
  },
  {
   "cell_type": "code",
   "execution_count": 4,
   "metadata": {},
   "outputs": [
    {
     "name": "stdout",
     "output_type": "stream",
     "text": [
      "date on file: 05_21_21_\n",
      "date on cover letter: May 21, 2021\n"
     ]
    }
   ],
   "source": [
    "print(f\"date on file: {d3}\\n\\\n",
    "date on cover letter: {d2}\")"
   ]
  },
  {
   "cell_type": "code",
   "execution_count": 5,
   "metadata": {},
   "outputs": [
    {
     "name": "stdout",
     "output_type": "stream",
     "text": [
      "State your name: Frantz\n",
      "and now your full name:Frantz Fanon\n"
     ]
    }
   ],
   "source": [
    "sname=\"Frantz\"\n",
    "fname=\"Frantz Fanon\"\n",
    "\n",
    "print(f'State your name: {sname}\\nand now your full name:{fname}')"
   ]
  },
  {
   "cell_type": "markdown",
   "metadata": {},
   "source": [
    "## Create the first paragraph\n",
    "\n",
    "This will generate the first a paragraph of the cover letter. Allowing you to generate on the fly cover letters to the advertisement. \n",
    "\n",
    "Overview of questions:\n",
    "1. What is the job title? (just put whatever is on the page exactly the script will lower case this automatically)\n",
    "\n",
    "2. What is the general idea behind the ad?(you might want to find the something like a phrase they use to describe the job)\n",
    "\n",
    "3. Where is it from? (this will always capitalize)\n"
   ]
  },
  {
   "cell_type": "code",
   "execution_count": 6,
   "metadata": {},
   "outputs": [
    {
     "name": "stdout",
     "output_type": "stream",
     "text": [
      "What is the job title? data analyst\n",
      "what is the general idea behind the theme of the ad? good job\n",
      "where is it from? google\n"
     ]
    }
   ],
   "source": [
    "job_tit=input('What is the job title? ')\n",
    "\n",
    "theme=input('what is the general idea behind the theme of the ad? ')\n",
    "\n",
    "source=input('where is it from? ')\n",
    "\n",
    "random_reaction = [' I was excited to find the posting for the ', ' I am glad I found the ad for the ',\n",
    "                   ' I was thrilled to come across the post for the ',' I am very interested in the ad for the',\n",
    "                   ' I was very pleased to discover your posting for the ']\n",
    "\n",
    "random_listb=[' it really spoke to me.', ' it is something I could see myself doing.',\n",
    "              ' it seemed  like an ideal fit for me. ']\n",
    "one_b=random.sample(random_listb,1)\n",
    "\n",
    "\n",
    "\n",
    "second_sentence=random.choice(random_reaction)+job_tit.lower()+\" position on \"+source.title()+' referencing\\\n",
    " \"'+theme.lower()+'\",'+str(one_b[0])"
   ]
  },
  {
   "cell_type": "code",
   "execution_count": 7,
   "metadata": {},
   "outputs": [
    {
     "data": {
      "text/plain": [
       "' I am very interested in the ad for thedata analyst position on Google referencing \"good job\", it really spoke to me.'"
      ]
     },
     "execution_count": 7,
     "metadata": {},
     "output_type": "execute_result"
    }
   ],
   "source": [
    "second_sentence"
   ]
  },
  {
   "cell_type": "markdown",
   "metadata": {},
   "source": [
    "### Here we need to find some qualities that relate to your personality, work ethic and behavior.\n",
    "\n",
    "1. Should be an adjective that describes your work ethic or relationship to responsibility.\n",
    "\n",
    "2. Should be an over all quality that you feel is required for the position.\n",
    "\n",
    "3. Should be an adjective that describes you and will be followed by \"seasoned individual\""
   ]
  },
  {
   "cell_type": "code",
   "execution_count": 8,
   "metadata": {},
   "outputs": [
    {
     "name": "stdout",
     "output_type": "stream",
     "text": [
      "what is a quality in the ad?strong\n",
      "what is another quality in the ad?dedicated\n",
      "what is the final quality in the ad?passionate\n"
     ]
    }
   ],
   "source": [
    "quality_1=input('what is a quality in the ad?')\n",
    "quality_2=input('what is another quality in the ad?')\n",
    "quality_3=input('what is the final quality in the ad?')\n",
    "random_list=['large datasets', 'business applications',\n",
    "             'complex technical challenges','high-pressure situations',\n",
    "             'data focused solutions', 'fast approaching deadlines']\n",
    "three=random.sample(random_list,3)\n",
    "\n",
    "\n",
    "\n",
    "\n",
    "uselater_1=\" After reading the description, I understand that the\\\n",
    " job requires someone who is \"+quality_1+\", \"+quality_2+\", and \"+quality_3+\". I see those qualities in myself.\"\n",
    "third_2=\" As a seasoned individual with more than \\\n",
    "a decade of dealing with various forms of \"+str(three[0])+\", \"+str(three[1])+\" and \"+str(three[2])+\" I am an asset to any organization.\"\n",
    "third_sentence=third_2"
   ]
  },
  {
   "cell_type": "code",
   "execution_count": 9,
   "metadata": {},
   "outputs": [
    {
     "data": {
      "text/plain": [
       "' As a seasoned individual with more than a decade of dealing with various forms of high-pressure situations, complex technical challenges and large datasets I am an asset to any organization.'"
      ]
     },
     "execution_count": 9,
     "metadata": {},
     "output_type": "execute_result"
    }
   ],
   "source": [
    "third_sentence"
   ]
  },
  {
   "cell_type": "markdown",
   "metadata": {},
   "source": [
    "Here we need the company's name you would like to use. The company name will be title cased.\n",
    "\n",
    "The rest will be all up to the randomizer"
   ]
  },
  {
   "cell_type": "code",
   "execution_count": 12,
   "metadata": {},
   "outputs": [
    {
     "name": "stdout",
     "output_type": "stream",
     "text": [
      "what is the company name? Yes corp\n"
     ]
    }
   ],
   "source": [
    "company_name=input('what is the company name? ')\n",
    "\n",
    "fourth_1= \" I feel that I not only meet the ads expectations of being a \"\n",
    "fourth_2= job_tit.lower()+\", but I am a great candidate for working at \"+company_name.title()+\".\"\n",
    "fourth_sentence=fourth_1+fourth_2\n",
    "fourth_sentence\n",
    "greetings=\"Dear Hiring Manager at \"+company_name.title()+\",\"  "
   ]
  },
  {
   "cell_type": "code",
   "execution_count": 13,
   "metadata": {},
   "outputs": [
    {
     "data": {
      "text/plain": [
       "' I feel that I not only meet the ads expectations of being a data analyst, but I am a great candidate for working at Yes Corp.'"
      ]
     },
     "execution_count": 13,
     "metadata": {},
     "output_type": "execute_result"
    }
   ],
   "source": [
    "fourth_sentence"
   ]
  },
  {
   "cell_type": "code",
   "execution_count": 14,
   "metadata": {},
   "outputs": [
    {
     "data": {
      "text/plain": [
       "'My name is Frantz Fanon and I am a data analyst with a passion for helping businesses maximize the most from the data they already have.'"
      ]
     },
     "execution_count": 14,
     "metadata": {},
     "output_type": "execute_result"
    }
   ],
   "source": [
    "passion_dicty={\"data analyst\":\"helping businesses maximize the most from the data they already have.\",\n",
    "              \"data engineer\":\"guiding companies to build the right data pipelines to get results.\",\n",
    "              \"business analyst\":\"using data to build revenue and to find new ways to optimize efficiency.\",\n",
    "              \"technical analyst\":\"making sure that information systems infrastructure performs optimally.\"\n",
    "}\n",
    "\n",
    "\n",
    "for key, val in passion_dicty.items():\n",
    "    if key==job_tit.lower():\n",
    "        whatiam=key\n",
    "        pashfor=val\n",
    "        break\n",
    "    else:\n",
    "        whatiam=\"data professional\"\n",
    "        pashfor=\"helping turn obstacles with data into steppign stones to new oppurtunities.\"\n",
    "\n",
    "\n",
    "intro_sentence=\"My name is \"+fname+\" and I am a \"+whatiam+\" with a passion for \"+pashfor\n",
    "intro_sentence"
   ]
  },
  {
   "cell_type": "code",
   "execution_count": 15,
   "metadata": {},
   "outputs": [
    {
     "data": {
      "text/plain": [
       "'My name is Frantz Fanon and I am a data analyst with a passion for helping businesses maximize the most from the data they already have. As a seasoned individual with more than a decade of dealing with various forms of high-pressure situations, complex technical challenges and large datasets I am an asset to any organization. I am very interested in the ad for thedata analyst position on Google referencing \"good job\", it really spoke to me. I feel that I not only meet the ads expectations of being a data analyst, but I am a great candidate for working at Yes Corp.'"
      ]
     },
     "execution_count": 15,
     "metadata": {},
     "output_type": "execute_result"
    }
   ],
   "source": [
    "p_one=intro_sentence+third_sentence+second_sentence+fourth_sentence\n",
    "p_one"
   ]
  },
  {
   "cell_type": "markdown",
   "metadata": {},
   "source": [
    "## Generating the second paragraph\n",
    "\n",
    "This will generate the body of the second paragraph. This structure is more complicated in that there are bullets and these need to be indenpendently updated. Generating bullets IS HARD in docx. Updating them a lot easier so the next iteration of this project should actually figure out a way to generate bullets on the fly. "
   ]
  },
  {
   "cell_type": "code",
   "execution_count": 16,
   "metadata": {},
   "outputs": [],
   "source": [
    "random_list4=['For the last 12 years ', 'For more than a decade ', 'For over 10 years ']\n",
    "one_3=random.sample(random_list4,1)\n",
    "random_list5=['managing an eCommerce business','directing an eCommerce and systems integration firm', \n",
    "              'coordinating an eCommerce firm']\n",
    "one_4=random.sample(random_list5,1)\n",
    "random_list6=['primary obligation ', 'first responsibility ', 'daily function ']\n",
    "one_5=random.sample(random_list6,1)\n",
    "random_list7=['to ensure that data was always in the right place ', 'to maintain the accessibility of our data ',\n",
    "              'to oversee everything that was data related ']\n",
    "one_6=random.sample(random_list7,1)\n",
    "\n",
    "two_1=str(one_3[0])+str(one_4[0])\n",
    "two_1_a=\", my \"+str(one_5[0])+\"was \"+str(one_6[0])+\"and to assure it was interpretable.\"\n",
    "p_two_intro=two_1+two_1_a"
   ]
  },
  {
   "cell_type": "code",
   "execution_count": 17,
   "metadata": {},
   "outputs": [
    {
     "data": {
      "text/plain": [
       "'For the last 12 years directing an eCommerce and systems integration firm, my primary obligation was to maintain the accessibility of our data and to assure it was interpretable.'"
      ]
     },
     "execution_count": 17,
     "metadata": {},
     "output_type": "execute_result"
    }
   ],
   "source": [
    "p_two_intro"
   ]
  },
  {
   "cell_type": "code",
   "execution_count": 18,
   "metadata": {},
   "outputs": [
    {
     "name": "stdout",
     "output_type": "stream",
     "text": [
      "What is the primary technical requirement? SQL\n",
      "What is the secondary technical requirement? python\n",
      "what is the third technical requirement? Alteryx\n",
      "please put y or n if visualizations are a part of the description?y\n",
      "please put y ot n if excel is a part of the the description?n\n",
      "please put y ot n if Alteryx is a part of the the description?y\n"
     ]
    }
   ],
   "source": [
    "prime_tech=input('What is the primary technical requirement? ')\n",
    "prime_tech=prime_tech.lower()\n",
    "secondary_tech=input('What is the secondary technical requirement? ')\n",
    "third_tech=input('what is the third technical requirement? ')\n",
    "viz_bool=input(\"please put y or n if visualizations are a part of the description?\")\n",
    "excel_bool=input('please put y ot n if excel is a part of the the description?')\n",
    "alteryx_bool=input('please put y ot n if Alteryx is a part of the the description?')\n",
    "\n",
    "job_dicty={'alteryx':'Alteryx was vital for the last 4 years',\n",
    "    'python':'Python was crucial in the last last 3 years',\n",
    "    'sql':'SQL was the most fundamental tool for the last decade',\n",
    "    'aws':'AWS was the foundation for the last 4 years',\n",
    "    'azure':'Azure was the primary platform for the last 3 years',\n",
    "    'postgres':'Both Postgres and AWS Redshift were instrumental to our daily functionality for the last 4 years',\n",
    "    'nosql':'Besides relational databases using Nosql collections were a game changer for the last 3 years',\n",
    "    'etl':'ETL (or extract, transform and load) is something that I have been doing for the past ten years',\n",
    "    'big data':'The use of Big Data in modern business applications is something familiar to me in the last 4 years'\n",
    "}\n",
    "\n",
    "for k,v in job_dicty.items():\n",
    "    if k==prime_tech:\n",
    "        two_three=v\n",
    "\n",
    "random_list8=['in addition to ', 'in conjunction with ',\n",
    "              'working hand in hand with ', 'working directly with ']\n",
    "one_7=random.sample(random_list8,1)\n",
    "\n",
    "random_list9=['the most accurate stock of inventory and pricing', 'the most intuitive markup algorithm and product categorization',\n",
    "             'a very complex solution to simplify eCommerce mission essential tasks']\n",
    "one_8=random.sample(random_list9,1)\n",
    "\n",
    "random_list10=['work through multiple shopping feeds to compete with our larger competitors.','managing our own web analytics and not relying on a third party.','integrating sales and returns with our ERP platforms to always have visibility into our business.',\n",
    "               'integrate with customer relationship management platforms to process returns and keep up satisfaction.']\n",
    "one_9=random.sample(random_list10,1)"
   ]
  },
  {
   "cell_type": "code",
   "execution_count": 19,
   "metadata": {},
   "outputs": [],
   "source": [
    "include_these=viz_bool+excel_bool"
   ]
  },
  {
   "cell_type": "code",
   "execution_count": 20,
   "metadata": {},
   "outputs": [],
   "source": [
    "if include_these=='yn':\n",
    "    two2='Tableau and Microsoft PowerBI,\\\n",
    " taking advantage of business intelligence tools to visualize and share complex ideas through dashboards and visuals.'\n",
    "elif include_these=='ny':\n",
    "    two2='Excel or Google sheets mastery with vlookups and pivot tables as well as building Python or VB based Macros.'\n",
    "elif include_these=='yy':\n",
    "    two2='Excel or Google sheets mastery with vlookups and pivot tables as well as building Python or VB based Macros.'\n",
    "    two3='Tableau and Microsoft PowerBI,\\\n",
    " taking advantage of business intelligence tools to visualize and share complex ideas through dashboards and visuals.'\n",
    "else:\n",
    "    two2='ETL (or extract, transfrom and load) is something that I have been doing for the past ten years and can strategically\\\n",
    "implement, document and deliver results with.'\n",
    "\n",
    "if alteryx_bool=='y' and (include_these =='ny' or include_these=='yn' or include_these =='nn'):\n",
    "    two3=' Having worked with Alteryx intimately I have utilized the software in many creative ways to extract, transform\\\n",
    " and load data. The potential of Alteryx in the hands of someone with both imagination and command of functionality is endless.'\n",
    "elif alteryx_bool=='n':\n",
    "    two3='ETL (or extract, transform and load) is something that I have been doing for the past ten years and can strategically\\\n",
    " implement, document and deliver results with.'\n",
    "\n"
   ]
  },
  {
   "cell_type": "code",
   "execution_count": 21,
   "metadata": {},
   "outputs": [],
   "source": [
    "p_two_one=two_three+\", \"+str(one_7[0])+secondary_tech+\" and \"+third_tech+\", I was not only were able to have \"+str(one_8[0])+\" \\\n",
    "that also enabled a smaller company like ours to \"+str(one_9[0])"
   ]
  },
  {
   "cell_type": "code",
   "execution_count": 22,
   "metadata": {},
   "outputs": [],
   "source": [
    "p_two_two=two2\n",
    "p_two_three=two3"
   ]
  },
  {
   "cell_type": "code",
   "execution_count": 23,
   "metadata": {},
   "outputs": [],
   "source": [
    "random_list_a1=['My philosophy ', 'My mantra ',\n",
    "              'My desired outcome ', 'My goal ']\n",
    "one_a1=random.sample(random_list_a1,1)\n",
    "\n",
    "p_two_outro=str(one_a1[0])+\"\\\n",
    "is to empower end-users with visibility, efficiency and focusing on the bottom line for stakeholders.\""
   ]
  },
  {
   "cell_type": "code",
   "execution_count": 24,
   "metadata": {},
   "outputs": [
    {
     "data": {
      "text/plain": [
       "'My desired outcome is to empower end-users with visibility, efficiency and focusing on the bottom line for stakeholders.'"
      ]
     },
     "execution_count": 24,
     "metadata": {},
     "output_type": "execute_result"
    }
   ],
   "source": [
    "p_two_outro"
   ]
  },
  {
   "cell_type": "markdown",
   "metadata": {},
   "source": [
    "## Closing paragraph\n"
   ]
  },
  {
   "cell_type": "code",
   "execution_count": 27,
   "metadata": {},
   "outputs": [
    {
     "name": "stdout",
     "output_type": "stream",
     "text": [
      "What is your first strength?data analysis\n",
      "What is your second strength?excel\n"
     ]
    },
    {
     "data": {
      "text/plain": [
       "'In my most recent experience as a Data Science Fellow, I have enhanced my abilities to use complex AI and Machine Learning techniques to complement my experience with data analysis and excel.'"
      ]
     },
     "execution_count": 27,
     "metadata": {},
     "output_type": "execute_result"
    }
   ],
   "source": [
    "strength_one=input('What is your first strength?')\n",
    "strength_two=input('What is your second strength?')\n",
    "\n",
    "first_one_third=\"In my most recent experience as a Data Science Fellow,\\\n",
    " I have enhanced my abilities to use complex AI and Machine Learning techniques\\\n",
    " to complement my experience with \"+strength_one+\" and \"+strength_two+\".\"\n",
    "first_one_third"
   ]
  },
  {
   "cell_type": "code",
   "execution_count": 28,
   "metadata": {},
   "outputs": [],
   "source": [
    "random_list11=['I am a quick learner','I am capable of doing things outside of my comfort zone',\n",
    "               'I am eager to combine what I already know with what I learn',\n",
    "               'I enjoy challenging myself with solving new problems']\n",
    "one_11=random.sample(random_list11,1)\n",
    "\n",
    "\n",
    "\n",
    "closing=\" I provide both the depth and dimension for \\\n",
    "exploratory analysis and explanatory predictive statistical mathematics that are \\\n",
    "needed for being a well-rounded \"+job_tit.lower()+\".\\\n",
    " I look forward to learning more about the \"+job_tit.lower()+\" position \\\n",
    "and seeing how I can contribute to the success of \"+company_name.title()+\".\""
   ]
  },
  {
   "cell_type": "code",
   "execution_count": 29,
   "metadata": {},
   "outputs": [
    {
     "data": {
      "text/plain": [
       "'In my most recent experience as a Data Science Fellow, I have enhanced my abilities to use complex AI and Machine Learning techniques to complement my experience with data analysis and excel. I provide both the depth and dimension for exploratory analysis and explanatory predictive statistical mathematics that are needed for being a well-rounded data analyst. I look forward to learning more about the data analyst position and seeing how I can contribute to the success of Yes Corp.'"
      ]
     },
     "execution_count": 29,
     "metadata": {},
     "output_type": "execute_result"
    }
   ],
   "source": [
    "p_three=first_one_third+closing\n",
    "p_three"
   ]
  },
  {
   "cell_type": "markdown",
   "metadata": {},
   "source": [
    "## Now let's creat the Word document:"
   ]
  },
  {
   "cell_type": "code",
   "execution_count": 30,
   "metadata": {},
   "outputs": [],
   "source": [
    "document = Document('new_template_github.docx')"
   ]
  },
  {
   "cell_type": "code",
   "execution_count": 31,
   "metadata": {},
   "outputs": [],
   "source": [
    "def find_replace(paragraph_keyword, draft_keyword, paragraph):\n",
    "    if paragraph_keyword in paragraph.text:\n",
    "        paragraph.text = paragraph.text.replace(paragraph_keyword, draft_keyword)"
   ]
  },
  {
   "cell_type": "code",
   "execution_count": 32,
   "metadata": {},
   "outputs": [],
   "source": [
    "def replacewhitespace(a):\n",
    "    a=''.join(e for e in a if e.isalnum())\n",
    "    a=a.replace(\" \", \"_\").lower()\n",
    "    return a\n",
    "\n",
    "\n",
    "jobby=job_tit.title()"
   ]
  },
  {
   "cell_type": "markdown",
   "metadata": {},
   "source": [
    "lets put the text where it needs to go:"
   ]
  },
  {
   "cell_type": "code",
   "execution_count": 33,
   "metadata": {},
   "outputs": [
    {
     "name": "stdout",
     "output_type": "stream",
     "text": [
      "\n",
      "\t\t\t\t\t\t\t\t\t\n",
      "\n",
      "Dear Hiring Manager at Yes Corp,\t\t\t\t\t\tMay 21, 2021\n",
      "\n",
      "My name is Frantz Fanon and I am a data analyst with a passion for helping businesses maximize the most from the data they already have. As a seasoned individual with more than a decade of dealing with various forms of high-pressure situations, complex technical challenges and large datasets I am an asset to any organization. I am very interested in the ad for thedata analyst position on Google referencing \"good job\", it really spoke to me. I feel that I not only meet the ads expectations of being a data analyst, but I am a great candidate for working at Yes Corp.\n",
      "\n",
      "For the last 12 years directing an eCommerce and systems integration firm, my primary obligation was to maintain the accessibility of our data and to assure it was interpretable.\n",
      "SQL was the most fundamental tool for the last decade, in addition to python and Alteryx, I was not only were able to have the most intuitive markup algorithm and product categorization that also enabled a smaller company like ours to integrate with customer relationship management platforms to process returns and keep up satisfaction.\n",
      "Tableau and Microsoft PowerBI, taking advantage of business intelligence tools to visualize and share complex ideas through dashboards and visuals.\n",
      " Having worked with Alteryx intimately I have utilized the software in many creative ways to extract, transform and load data. The potential of Alteryx in the hands of someone with both imagination and command of functionality is endless.\n",
      "My desired outcome is to empower end-users with visibility, efficiency and focusing on the bottom line for stakeholders.\n",
      "\n",
      "In my most recent experience as a Data Science Fellow, I have enhanced my abilities to use complex AI and Machine Learning techniques to complement my experience with data analysis and excel. I provide both the depth and dimension for exploratory analysis and explanatory predictive statistical mathematics that are needed for being a well-rounded data analyst. I look forward to learning more about the data analyst position and seeing how I can contribute to the success of Yes Corp.\n",
      "\n",
      "\n",
      "Thank you,\n",
      "Frantz Fanon\n",
      "\n"
     ]
    }
   ],
   "source": [
    "for paragraph in document.paragraphs:\n",
    "    find_replace(\"##date##\", d2, paragraph)\n",
    "    find_replace(\"##greetings##\", greetings, paragraph)\n",
    "    find_replace(\"Replace this with one\", p_one, paragraph)\n",
    "    find_replace(\"Replace this with two_start\", p_two_intro, paragraph)\n",
    "    find_replace(\"Replace this with bullet one\", p_two_one, paragraph)\n",
    "    find_replace(\"Replace this with bullet two\", p_two_two, paragraph)\n",
    "    find_replace(\"Replace this with bullet three\", p_two_three, paragraph)\n",
    "    find_replace(\"Replace this with end_two\", p_two_outro, paragraph)\n",
    "    find_replace(\"Replace this with three\",p_three, paragraph)\n",
    "    find_replace(\"##Replace this with the job title\",jobby, paragraph)\n",
    "\n",
    "\n",
    "    print(paragraph.text)\n",
    "\n",
    "    \n",
    "for paragraph in document.paragraphs:\n",
    "    if 'data' in paragraph.text:\n",
    "        #paragraph.clear()\n",
    "        run = paragraph.add_run()\n",
    "        #run.text = 'data \\t'\n",
    "        run.font.bold = True\n",
    "        #run.font.underline = True\n",
    "        #run = paragraph.add_run()  \n"
   ]
  },
  {
   "cell_type": "code",
   "execution_count": 34,
   "metadata": {},
   "outputs": [],
   "source": [
    "name_gen=d3+replacewhitespace(job_tit)+\"_\"+replacewhitespace(company_name)\n",
    "document.save(\"./docs/\"+name_gen+\".docx\")"
   ]
  },
  {
   "cell_type": "code",
   "execution_count": null,
   "metadata": {},
   "outputs": [],
   "source": []
  },
  {
   "cell_type": "markdown",
   "metadata": {},
   "source": [
    "## Now lets append the results to Mongo...So we know where we applied.\n",
    "\n",
    "I can run this code from anywhere which makes it really problematic if there are multiple results in multiple places."
   ]
  },
  {
   "cell_type": "code",
   "execution_count": 35,
   "metadata": {},
   "outputs": [],
   "source": [
    "history = pd.DataFrame()\n",
    "hist_dict={\"name\":company_name.title(),\n",
    "           \"job\":job_tit,\n",
    "           \"date_sent\":d2,\n",
    "           \"primary\":prime_tech.title(),\n",
    "           \"secondary\":secondary_tech.title(),\n",
    "           \"third\":third_tech.title(),\n",
    "           \"visualizations\":viz_bool,\n",
    "           \"excel\":excel_bool,\n",
    "           \"alteryx\":alteryx_bool,\n",
    "           \"sent_from\":\"home_computer\"\n",
    "          }\n",
    "history = history.append(hist_dict, ignore_index=True)\n",
    "history = history[['name','job','date_sent','sent_from','primary','secondary','third','alteryx','visualizations','excel']]\n",
    "#history.set_index(\"name\", inplace = True)"
   ]
  },
  {
   "cell_type": "code",
   "execution_count": 36,
   "metadata": {},
   "outputs": [
    {
     "data": {
      "text/html": [
       "<div>\n",
       "<style scoped>\n",
       "    .dataframe tbody tr th:only-of-type {\n",
       "        vertical-align: middle;\n",
       "    }\n",
       "\n",
       "    .dataframe tbody tr th {\n",
       "        vertical-align: top;\n",
       "    }\n",
       "\n",
       "    .dataframe thead th {\n",
       "        text-align: right;\n",
       "    }\n",
       "</style>\n",
       "<table border=\"1\" class=\"dataframe\">\n",
       "  <thead>\n",
       "    <tr style=\"text-align: right;\">\n",
       "      <th></th>\n",
       "      <th>name</th>\n",
       "      <th>job</th>\n",
       "      <th>date_sent</th>\n",
       "      <th>sent_from</th>\n",
       "      <th>primary</th>\n",
       "      <th>secondary</th>\n",
       "      <th>third</th>\n",
       "      <th>alteryx</th>\n",
       "      <th>visualizations</th>\n",
       "      <th>excel</th>\n",
       "    </tr>\n",
       "  </thead>\n",
       "  <tbody>\n",
       "    <tr>\n",
       "      <th>0</th>\n",
       "      <td>Yes Corp</td>\n",
       "      <td>data analyst</td>\n",
       "      <td>May 21, 2021</td>\n",
       "      <td>home_computer</td>\n",
       "      <td>Sql</td>\n",
       "      <td>Python</td>\n",
       "      <td>Alteryx</td>\n",
       "      <td>y</td>\n",
       "      <td>y</td>\n",
       "      <td>n</td>\n",
       "    </tr>\n",
       "  </tbody>\n",
       "</table>\n",
       "</div>"
      ],
      "text/plain": [
       "       name           job     date_sent      sent_from primary secondary  \\\n",
       "0  Yes Corp  data analyst  May 21, 2021  home_computer     Sql    Python   \n",
       "\n",
       "     third alteryx visualizations excel  \n",
       "0  Alteryx       y              y     n  "
      ]
     },
     "execution_count": 36,
     "metadata": {},
     "output_type": "execute_result"
    }
   ],
   "source": [
    "history"
   ]
  },
  {
   "cell_type": "code",
   "execution_count": null,
   "metadata": {},
   "outputs": [],
   "source": []
  }
 ],
 "metadata": {
  "kernelspec": {
   "display_name": "Python 3",
   "language": "python",
   "name": "python3"
  },
  "language_info": {
   "codemirror_mode": {
    "name": "ipython",
    "version": 3
   },
   "file_extension": ".py",
   "mimetype": "text/x-python",
   "name": "python",
   "nbconvert_exporter": "python",
   "pygments_lexer": "ipython3",
   "version": "3.8.5"
  }
 },
 "nbformat": 4,
 "nbformat_minor": 4
}
